{
  "nbformat": 4,
  "nbformat_minor": 5,
  "metadata": {
    "colab": {
      "name": "cosine_similarity_model.ipynb",
      "provenance": []
    },
    "kernelspec": {
      "display_name": "Python 3",
      "language": "python",
      "name": "python3"
    },
    "language_info": {
      "codemirror_mode": {
        "name": "ipython",
        "version": 3
      },
      "file_extension": ".py",
      "mimetype": "text/x-python",
      "name": "python",
      "nbconvert_exporter": "python",
      "pygments_lexer": "ipython3",
      "version": "3.9.5"
    }
  },
  "cells": [
    {
      "cell_type": "code",
      "metadata": {
        "colab": {
          "resources": {
            "http://localhost:8080/nbextensions/google.colab/files.js": {
              "data": "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",
              "ok": true,
              "headers": [
                [
                  "content-type",
                  "application/javascript"
                ]
              ],
              "status": 200,
              "status_text": "OK"
            }
          },
          "base_uri": "https://localhost:8080/",
          "height": 84
        },
        "id": "SNKR7pPi6hbt",
        "outputId": "f5824a09-acb1-4ea2-ff63-cc06bdc49150"
      },
      "source": [
        "# from google.colab import files\n",
        "# data_to_load = files.upload()"
      ],
      "id": "SNKR7pPi6hbt",
      "execution_count": 1,
      "outputs": [
        {
          "output_type": "display_data",
          "data": {
            "text/html": [
              "\n",
              "     <input type=\"file\" id=\"files-28057d11-bf78-47d8-b02e-7cbe59fcdb56\" name=\"files[]\" multiple disabled\n",
              "        style=\"border:none\" />\n",
              "     <output id=\"result-28057d11-bf78-47d8-b02e-7cbe59fcdb56\">\n",
              "      Upload widget is only available when the cell has been executed in the\n",
              "      current browser session. Please rerun this cell to enable.\n",
              "      </output>\n",
              "      <script src=\"/nbextensions/google.colab/files.js\"></script> "
            ],
            "text/plain": [
              "<IPython.core.display.HTML object>"
            ]
          },
          "metadata": {}
        },
        {
          "output_type": "stream",
          "name": "stdout",
          "text": [
            "Saving preprocessed_flipkart_data to preprocessed_flipkart_data\n"
          ]
        }
      ]
    },
    {
      "cell_type": "code",
      "metadata": {
        "id": "4b3d5f6d"
      },
      "source": [
        "# reading preprocessed data\n",
        "import pandas as pd\n",
        "df = pd.read_csv(r'../data/preprocessed_flipkart_data')"
      ],
      "id": "4b3d5f6d",
      "execution_count": null,
      "outputs": []
    },
    {
      "cell_type": "code",
      "metadata": {
        "colab": {
          "base_uri": "https://localhost:8080/"
        },
        "id": "V8joG-m-ySNT",
        "outputId": "e2d035a8-77e6-4432-c0aa-48c4dc5433d6"
      },
      "source": [
        "df.columns"
      ],
      "id": "V8joG-m-ySNT",
      "execution_count": null,
      "outputs": [
        {
          "data": {
            "text/plain": [
              "Index(['products', 'product_category_tree', 'description', 'brand',\n",
              "       'product_names', 'combined_features'],\n",
              "      dtype='object')"
            ]
          },
          "execution_count": 10,
          "metadata": {},
          "output_type": "execute_result"
        }
      ]
    },
    {
      "cell_type": "markdown",
      "metadata": {
        "id": "6e921b34"
      },
      "source": [
        "## Feature extraction"
      ],
      "id": "6e921b34"
    },
    {
      "cell_type": "code",
      "metadata": {
        "id": "4d59f482"
      },
      "source": [
        "from sklearn.feature_extraction.text import TfidfVectorizer\n",
        "\n",
        "vectorizer = TfidfVectorizer(analyzer = 'word', ngram_range=(1, 2), min_df=0)\n",
        "extracted_features = vectorizer.fit_transform(df['combined_features'])"
      ],
      "id": "4d59f482",
      "execution_count": 4,
      "outputs": []
    },
    {
      "cell_type": "code",
      "metadata": {
        "colab": {
          "base_uri": "https://localhost:8080/"
        },
        "id": "59987903",
        "outputId": "6a05e119-a481-4ba9-b35b-5952a3a8e589"
      },
      "source": [
        "extracted_features"
      ],
      "id": "59987903",
      "execution_count": 5,
      "outputs": [
        {
          "output_type": "execute_result",
          "data": {
            "text/plain": [
              "<12676x180513 sparse matrix of type '<class 'numpy.float64'>'\n",
              "\twith 1069149 stored elements in Compressed Sparse Row format>"
            ]
          },
          "metadata": {},
          "execution_count": 5
        }
      ]
    },
    {
      "cell_type": "markdown",
      "metadata": {
        "id": "ae39adf9"
      },
      "source": [
        "## Using cosine similarity"
      ],
      "id": "ae39adf9"
    },
    {
      "cell_type": "code",
      "metadata": {
        "id": "e480c88c"
      },
      "source": [
        "from sklearn.metrics.pairwise import cosine_similarity\n",
        "cos_sim = cosine_similarity(extracted_features, extracted_features)"
      ],
      "id": "e480c88c",
      "execution_count": 6,
      "outputs": []
    },
    {
      "cell_type": "code",
      "metadata": {
        "colab": {
          "base_uri": "https://localhost:8080/"
        },
        "id": "89fca805",
        "outputId": "54e933f9-b462-4aac-afb0-1afb1d1ec250"
      },
      "source": [
        "type(cos_sim)"
      ],
      "id": "89fca805",
      "execution_count": 7,
      "outputs": [
        {
          "output_type": "execute_result",
          "data": {
            "text/plain": [
              "numpy.ndarray"
            ]
          },
          "metadata": {},
          "execution_count": 7
        }
      ]
    },
    {
      "cell_type": "code",
      "metadata": {
        "colab": {
          "base_uri": "https://localhost:8080/",
          "height": 499
        },
        "id": "WMk-L39Lq7R3",
        "outputId": "b38fbbe3-37a9-4d07-a894-146c6d811345"
      },
      "source": [
        "# visualising similarity scores\n",
        "import matplotlib.pyplot as plt\n",
        "import numpy as np\n",
        "fig, ax = plt.subplots(figsize = (8,8))\n",
        "im = ax.imshow(cos_sim[:10, :10], cmap = 'prism')\n",
        "\n",
        "for i in range(10):\n",
        "    for j in range(10):\n",
        "        text = ax.text(j, i, cos_sim[i, j].round(3),\n",
        "                       ha=\"center\", va=\"center\", color=\"w\")\n",
        "\n",
        "ax.set_xticks(np.arange(10))\n",
        "ax.set_yticks(np.arange(10))\n",
        "\n",
        "plt.title('Similarity scores of first 10 products with each other')\n",
        "plt.show()"
      ],
      "id": "WMk-L39Lq7R3",
      "execution_count": 16,
      "outputs": [
        {
          "output_type": "display_data",
          "data": {
            "image/png": "[encoded data removed]",
            "text/plain": [
              "<Figure size 576x576 with 1 Axes>"
            ]
          },
          "metadata": {
            "needs_background": "light"
          }
        }
      ]
    },
    {
      "cell_type": "markdown",
      "metadata": {
        "id": "hcNvwjIddgLG"
      },
      "source": [
        "## Getting Recommendations"
      ],
      "id": "hcNvwjIddgLG"
    },
    {
      "cell_type": "code",
      "metadata": {
        "colab": {
          "base_uri": "https://localhost:8080/",
          "height": 640
        },
        "id": "QKnnfN6ZJMME",
        "outputId": "38c13a2c-46b0-4094-8392-4351de4e1fb1"
      },
      "source": [
        "df.head(10)"
      ],
      "id": "QKnnfN6ZJMME",
      "execution_count": 8,
      "outputs": [
        {
          "output_type": "execute_result",
          "data": {
            "text/html": [
              "<div>\n",
              "<style scoped>\n",
              "    .dataframe tbody tr th:only-of-type {\n",
              "        vertical-align: middle;\n",
              "    }\n",
              "\n",
              "    .dataframe tbody tr th {\n",
              "        vertical-align: top;\n",
              "    }\n",
              "\n",
              "    .dataframe thead th {\n",
              "        text-align: right;\n",
              "    }\n",
              "</style>\n",
              "<table border=\"1\" class=\"dataframe\">\n",
              "  <thead>\n",
              "    <tr style=\"text-align: right;\">\n",
              "      <th></th>\n",
              "      <th>products</th>\n",
              "      <th>product_category_tree</th>\n",
              "      <th>description</th>\n",
              "      <th>brand</th>\n",
              "      <th>product_names</th>\n",
              "      <th>combined_features</th>\n",
              "    </tr>\n",
              "  </thead>\n",
              "  <tbody>\n",
              "    <tr>\n",
              "      <th>0</th>\n",
              "      <td>alisha solid women cycl short</td>\n",
              "      <td>cloth women cloth lingeri sleep swimwear short...</td>\n",
              "      <td>key featur alisha solid women cycl short cotto...</td>\n",
              "      <td>alisha</td>\n",
              "      <td>Alisha Solid Women's Cycling Shorts</td>\n",
              "      <td>alisha solid women cycl shortcloth women cloth...</td>\n",
              "    </tr>\n",
              "    <tr>\n",
              "      <th>1</th>\n",
              "      <td>fabhomedecor fabric doubl sofa bed</td>\n",
              "      <td>furnitur live room furnitur sofa bed futon fab...</td>\n",
              "      <td>fabhomedecor fabric doubl sofa bed finish colo...</td>\n",
              "      <td>fabhomedecor</td>\n",
              "      <td>FabHomeDecor Fabric Double Sofa Bed</td>\n",
              "      <td>fabhomedecor fabric doubl sofa bedfurnitur liv...</td>\n",
              "    </tr>\n",
              "    <tr>\n",
              "      <th>2</th>\n",
              "      <td>aw belli</td>\n",
              "      <td>footwear women footwear ballerina aw belli</td>\n",
              "      <td>key featur aw belli sandal wedg heel casual aw...</td>\n",
              "      <td>aw</td>\n",
              "      <td>AW Bellies</td>\n",
              "      <td>aw bellifootwear women footwear ballerina aw b...</td>\n",
              "    </tr>\n",
              "    <tr>\n",
              "      <th>3</th>\n",
              "      <td>sicon all purpos arnica dog shampoo</td>\n",
              "      <td>pet suppli groom skin coat care shampoo sicon ...</td>\n",
              "      <td>specif sicon all purpos arnica dog shampoo ml ...</td>\n",
              "      <td>sicon</td>\n",
              "      <td>Sicons All Purpose Arnica Dog Shampoo</td>\n",
              "      <td>sicon all purpos arnica dog shampoopet suppli ...</td>\n",
              "    </tr>\n",
              "    <tr>\n",
              "      <th>4</th>\n",
              "      <td>etern gandhi super seri crystal paper weight s...</td>\n",
              "      <td>etern gandhi super seri crystal paper weight</td>\n",
              "      <td>key featur etern gandhi super seri crystal pap...</td>\n",
              "      <td>etern gandhi</td>\n",
              "      <td>Eternal Gandhi Super Series Crystal Paper Weig...</td>\n",
              "      <td>etern gandhi super seri crystal paper weight s...</td>\n",
              "    </tr>\n",
              "    <tr>\n",
              "      <th>5</th>\n",
              "      <td>dilli bazaaar belli corpor casual casual</td>\n",
              "      <td>footwear women footwear ballerina dilli bazaaa...</td>\n",
              "      <td>key featur dilli bazaaar belli corpor casual c...</td>\n",
              "      <td>dilli bazaaar</td>\n",
              "      <td>dilli bazaaar Bellies, Corporate Casuals, Casuals</td>\n",
              "      <td>dilli bazaaar belli corpor casual casualfootwe...</td>\n",
              "    </tr>\n",
              "    <tr>\n",
              "      <th>6</th>\n",
              "      <td>ladela belli</td>\n",
              "      <td>footwear women footwear ballerina ladela belli</td>\n",
              "      <td>key featur ladela belli brand ladela color bla...</td>\n",
              "      <td>ladela</td>\n",
              "      <td>Ladela Bellies</td>\n",
              "      <td>ladela bellifootwear women footwear ballerina ...</td>\n",
              "    </tr>\n",
              "    <tr>\n",
              "      <th>7</th>\n",
              "      <td>carrel print women</td>\n",
              "      <td>cloth women cloth sport gym wear swimsuit carr...</td>\n",
              "      <td>key featur carrel print women fabric swimlycra...</td>\n",
              "      <td>carrel</td>\n",
              "      <td>Carrel Printed Women's</td>\n",
              "      <td>carrel print womencloth women cloth sport gym ...</td>\n",
              "    </tr>\n",
              "    <tr>\n",
              "      <th>8</th>\n",
              "      <td>sicon all purpos tea tree dog shampoo</td>\n",
              "      <td>pet suppli groom skin coat care shampoo sicon ...</td>\n",
              "      <td>specif sicon all purpos tea tree dog shampoo m...</td>\n",
              "      <td>sicon</td>\n",
              "      <td>Sicons All Purpose Tea Tree Dog Shampoo</td>\n",
              "      <td>sicon all purpos tea tree dog shampoopet suppl...</td>\n",
              "    </tr>\n",
              "    <tr>\n",
              "      <th>9</th>\n",
              "      <td>freelanc vacuum bottl ml bottl</td>\n",
              "      <td>pen stationeri school suppli water bottl freel...</td>\n",
              "      <td>specif freelanc vacuum bottl ml bottl pack gre...</td>\n",
              "      <td>freelanc</td>\n",
              "      <td>Freelance Vacuum Bottles 350 ml Bottle</td>\n",
              "      <td>freelanc vacuum bottl ml bottlpen stationeri s...</td>\n",
              "    </tr>\n",
              "  </tbody>\n",
              "</table>\n",
              "</div>"
            ],
            "text/plain": [
              "                                            products  ...                                  combined_features\n",
              "0                      alisha solid women cycl short  ...  alisha solid women cycl shortcloth women cloth...\n",
              "1                 fabhomedecor fabric doubl sofa bed  ...  fabhomedecor fabric doubl sofa bedfurnitur liv...\n",
              "2                                           aw belli  ...  aw bellifootwear women footwear ballerina aw b...\n",
              "3                sicon all purpos arnica dog shampoo  ...  sicon all purpos arnica dog shampoopet suppli ...\n",
              "4  etern gandhi super seri crystal paper weight s...  ...  etern gandhi super seri crystal paper weight s...\n",
              "5           dilli bazaaar belli corpor casual casual  ...  dilli bazaaar belli corpor casual casualfootwe...\n",
              "6                                       ladela belli  ...  ladela bellifootwear women footwear ballerina ...\n",
              "7                                 carrel print women  ...  carrel print womencloth women cloth sport gym ...\n",
              "8              sicon all purpos tea tree dog shampoo  ...  sicon all purpos tea tree dog shampoopet suppl...\n",
              "9                     freelanc vacuum bottl ml bottl  ...  freelanc vacuum bottl ml bottlpen stationeri s...\n",
              "\n",
              "[10 rows x 6 columns]"
            ]
          },
          "metadata": {},
          "execution_count": 8
        }
      ]
    },
    {
      "cell_type": "code",
      "metadata": {
        "id": "ZrN6SpiVeVKd"
      },
      "source": [
        "df = df.reset_index()"
      ],
      "id": "ZrN6SpiVeVKd",
      "execution_count": 9,
      "outputs": []
    },
    {
      "cell_type": "code",
      "metadata": {
        "colab": {
          "base_uri": "https://localhost:8080/",
          "height": 640
        },
        "id": "8qtfzCzLJnQd",
        "outputId": "2cfa05c7-4d18-427e-cc41-b8497296c6a5"
      },
      "source": [
        "df.head(10)"
      ],
      "id": "8qtfzCzLJnQd",
      "execution_count": 10,
      "outputs": [
        {
          "output_type": "execute_result",
          "data": {
            "text/html": [
              "<div>\n",
              "<style scoped>\n",
              "    .dataframe tbody tr th:only-of-type {\n",
              "        vertical-align: middle;\n",
              "    }\n",
              "\n",
              "    .dataframe tbody tr th {\n",
              "        vertical-align: top;\n",
              "    }\n",
              "\n",
              "    .dataframe thead th {\n",
              "        text-align: right;\n",
              "    }\n",
              "</style>\n",
              "<table border=\"1\" class=\"dataframe\">\n",
              "  <thead>\n",
              "    <tr style=\"text-align: right;\">\n",
              "      <th></th>\n",
              "      <th>index</th>\n",
              "      <th>products</th>\n",
              "      <th>product_category_tree</th>\n",
              "      <th>description</th>\n",
              "      <th>brand</th>\n",
              "      <th>product_names</th>\n",
              "      <th>combined_features</th>\n",
              "    </tr>\n",
              "  </thead>\n",
              "  <tbody>\n",
              "    <tr>\n",
              "      <th>0</th>\n",
              "      <td>0</td>\n",
              "      <td>alisha solid women cycl short</td>\n",
              "      <td>cloth women cloth lingeri sleep swimwear short...</td>\n",
              "      <td>key featur alisha solid women cycl short cotto...</td>\n",
              "      <td>alisha</td>\n",
              "      <td>Alisha Solid Women's Cycling Shorts</td>\n",
              "      <td>alisha solid women cycl shortcloth women cloth...</td>\n",
              "    </tr>\n",
              "    <tr>\n",
              "      <th>1</th>\n",
              "      <td>1</td>\n",
              "      <td>fabhomedecor fabric doubl sofa bed</td>\n",
              "      <td>furnitur live room furnitur sofa bed futon fab...</td>\n",
              "      <td>fabhomedecor fabric doubl sofa bed finish colo...</td>\n",
              "      <td>fabhomedecor</td>\n",
              "      <td>FabHomeDecor Fabric Double Sofa Bed</td>\n",
              "      <td>fabhomedecor fabric doubl sofa bedfurnitur liv...</td>\n",
              "    </tr>\n",
              "    <tr>\n",
              "      <th>2</th>\n",
              "      <td>2</td>\n",
              "      <td>aw belli</td>\n",
              "      <td>footwear women footwear ballerina aw belli</td>\n",
              "      <td>key featur aw belli sandal wedg heel casual aw...</td>\n",
              "      <td>aw</td>\n",
              "      <td>AW Bellies</td>\n",
              "      <td>aw bellifootwear women footwear ballerina aw b...</td>\n",
              "    </tr>\n",
              "    <tr>\n",
              "      <th>3</th>\n",
              "      <td>3</td>\n",
              "      <td>sicon all purpos arnica dog shampoo</td>\n",
              "      <td>pet suppli groom skin coat care shampoo sicon ...</td>\n",
              "      <td>specif sicon all purpos arnica dog shampoo ml ...</td>\n",
              "      <td>sicon</td>\n",
              "      <td>Sicons All Purpose Arnica Dog Shampoo</td>\n",
              "      <td>sicon all purpos arnica dog shampoopet suppli ...</td>\n",
              "    </tr>\n",
              "    <tr>\n",
              "      <th>4</th>\n",
              "      <td>4</td>\n",
              "      <td>etern gandhi super seri crystal paper weight s...</td>\n",
              "      <td>etern gandhi super seri crystal paper weight</td>\n",
              "      <td>key featur etern gandhi super seri crystal pap...</td>\n",
              "      <td>etern gandhi</td>\n",
              "      <td>Eternal Gandhi Super Series Crystal Paper Weig...</td>\n",
              "      <td>etern gandhi super seri crystal paper weight s...</td>\n",
              "    </tr>\n",
              "    <tr>\n",
              "      <th>5</th>\n",
              "      <td>5</td>\n",
              "      <td>dilli bazaaar belli corpor casual casual</td>\n",
              "      <td>footwear women footwear ballerina dilli bazaaa...</td>\n",
              "      <td>key featur dilli bazaaar belli corpor casual c...</td>\n",
              "      <td>dilli bazaaar</td>\n",
              "      <td>dilli bazaaar Bellies, Corporate Casuals, Casuals</td>\n",
              "      <td>dilli bazaaar belli corpor casual casualfootwe...</td>\n",
              "    </tr>\n",
              "    <tr>\n",
              "      <th>6</th>\n",
              "      <td>6</td>\n",
              "      <td>ladela belli</td>\n",
              "      <td>footwear women footwear ballerina ladela belli</td>\n",
              "      <td>key featur ladela belli brand ladela color bla...</td>\n",
              "      <td>ladela</td>\n",
              "      <td>Ladela Bellies</td>\n",
              "      <td>ladela bellifootwear women footwear ballerina ...</td>\n",
              "    </tr>\n",
              "    <tr>\n",
              "      <th>7</th>\n",
              "      <td>7</td>\n",
              "      <td>carrel print women</td>\n",
              "      <td>cloth women cloth sport gym wear swimsuit carr...</td>\n",
              "      <td>key featur carrel print women fabric swimlycra...</td>\n",
              "      <td>carrel</td>\n",
              "      <td>Carrel Printed Women's</td>\n",
              "      <td>carrel print womencloth women cloth sport gym ...</td>\n",
              "    </tr>\n",
              "    <tr>\n",
              "      <th>8</th>\n",
              "      <td>8</td>\n",
              "      <td>sicon all purpos tea tree dog shampoo</td>\n",
              "      <td>pet suppli groom skin coat care shampoo sicon ...</td>\n",
              "      <td>specif sicon all purpos tea tree dog shampoo m...</td>\n",
              "      <td>sicon</td>\n",
              "      <td>Sicons All Purpose Tea Tree Dog Shampoo</td>\n",
              "      <td>sicon all purpos tea tree dog shampoopet suppl...</td>\n",
              "    </tr>\n",
              "    <tr>\n",
              "      <th>9</th>\n",
              "      <td>9</td>\n",
              "      <td>freelanc vacuum bottl ml bottl</td>\n",
              "      <td>pen stationeri school suppli water bottl freel...</td>\n",
              "      <td>specif freelanc vacuum bottl ml bottl pack gre...</td>\n",
              "      <td>freelanc</td>\n",
              "      <td>Freelance Vacuum Bottles 350 ml Bottle</td>\n",
              "      <td>freelanc vacuum bottl ml bottlpen stationeri s...</td>\n",
              "    </tr>\n",
              "  </tbody>\n",
              "</table>\n",
              "</div>"
            ],
            "text/plain": [
              "   index  ...                                  combined_features\n",
              "0      0  ...  alisha solid women cycl shortcloth women cloth...\n",
              "1      1  ...  fabhomedecor fabric doubl sofa bedfurnitur liv...\n",
              "2      2  ...  aw bellifootwear women footwear ballerina aw b...\n",
              "3      3  ...  sicon all purpos arnica dog shampoopet suppli ...\n",
              "4      4  ...  etern gandhi super seri crystal paper weight s...\n",
              "5      5  ...  dilli bazaaar belli corpor casual casualfootwe...\n",
              "6      6  ...  ladela bellifootwear women footwear ballerina ...\n",
              "7      7  ...  carrel print womencloth women cloth sport gym ...\n",
              "8      8  ...  sicon all purpos tea tree dog shampoopet suppl...\n",
              "9      9  ...  freelanc vacuum bottl ml bottlpen stationeri s...\n",
              "\n",
              "[10 rows x 7 columns]"
            ]
          },
          "metadata": {},
          "execution_count": 10
        }
      ]
    },
    {
      "cell_type": "code",
      "metadata": {
        "colab": {
          "base_uri": "https://localhost:8080/"
        },
        "id": "659UAK_ZjHxe",
        "outputId": "85476d40-ad12-44a2-91df-2fd683390bbb"
      },
      "source": [
        "products = df['product_names']\n",
        "indices = pd.Series(df.index, index=df['product_names'])\n",
        "indices.head()"
      ],
      "id": "659UAK_ZjHxe",
      "execution_count": 11,
      "outputs": [
        {
          "output_type": "execute_result",
          "data": {
            "text/plain": [
              "product_names\n",
              "Alisha Solid Women's Cycling Shorts                                      0\n",
              "FabHomeDecor Fabric Double Sofa Bed                                      1\n",
              "AW Bellies                                                               2\n",
              "Sicons All Purpose Arnica Dog Shampoo                                    3\n",
              "Eternal Gandhi Super Series Crystal Paper Weights  with Silver Finish    4\n",
              "dtype: int64"
            ]
          },
          "metadata": {},
          "execution_count": 11
        }
      ]
    },
    {
      "cell_type": "code",
      "metadata": {
        "id": "EGrogChwdnOh"
      },
      "source": [
        "# function to get top 10 recommendations\n",
        "def get_recommendations(product):\n",
        "    ind = indices[product]\n",
        "    sim_scores = list(enumerate(cos_sim[ind]))\n",
        "    sim_scores = sorted(sim_scores, key = lambda x:x[1], reverse=True)\n",
        "    product_indices = [i[0] for i in sim_scores[1:11]]\n",
        "    return products.iloc[product_indices]"
      ],
      "id": "EGrogChwdnOh",
      "execution_count": 17,
      "outputs": []
    },
    {
      "cell_type": "code",
      "metadata": {
        "colab": {
          "base_uri": "https://localhost:8080/"
        },
        "id": "s8sDVryPLTqr",
        "outputId": "c070fb6d-7fea-444e-ab12-64a2e073045b"
      },
      "source": [
        "get_recommendations('AW Bellies')"
      ],
      "id": "s8sDVryPLTqr",
      "execution_count": 18,
      "outputs": [
        {
          "output_type": "execute_result",
          "data": {
            "text/plain": [
              "11780    Shopnetix Stylish & Comfort Men's Lace up Moca...\n",
              "7303                              Sonaxo Men Running Shoes\n",
              "11137                                        Inc.5 Bellies\n",
              "829                                     Inc.5 Women Wedges\n",
              "1772                                      Bootwale Bellies\n",
              "11164                                     i-Sports Bellies\n",
              "7095                                     keco Women Wedges\n",
              "5354                                     D'Panache Mojaris\n",
              "11326                                      Mobiroy Bellies\n",
              "12105                                     keco Women Heels\n",
              "Name: product_names, dtype: object"
            ]
          },
          "metadata": {},
          "execution_count": 18
        }
      ]
    },
    {
      "cell_type": "code",
      "metadata": {
        "colab": {
          "base_uri": "https://localhost:8080/"
        },
        "id": "9jzjqNKdm63U",
        "outputId": "16aa582d-e87d-4379-ed3e-be661980b332"
      },
      "source": [
        "get_recommendations('Purple Women Heels')"
      ],
      "id": "9jzjqNKdm63U",
      "execution_count": 19,
      "outputs": [
        {
          "output_type": "execute_result",
          "data": {
            "text/plain": [
              "6908           TEN Women Heels\n",
              "507           Nell Women Heels\n",
              "6887          Liza Women Heels\n",
              "6879         Kielz Women Heels\n",
              "7882        Selfie Women Heels\n",
              "6891       FatDuck Women Heels\n",
              "6912      Chicopee Women Heels\n",
              "6789        Rialto Women Heels\n",
              "12674    Stylistry Women Heels\n",
              "6910           iLO Women Heels\n",
              "Name: product_names, dtype: object"
            ]
          },
          "metadata": {},
          "execution_count": 19
        }
      ]
    },
    {
      "cell_type": "code",
      "metadata": {
        "colab": {
          "base_uri": "https://localhost:8080/"
        },
        "id": "EJWe6aDLpCoX",
        "outputId": "cd1d7fd8-d57f-4b6f-9f04-0daecd22950c"
      },
      "source": [
        "get_recommendations('Uberlyfe Extra Large Vinyl Sticker')"
      ],
      "id": "EJWe6aDLpCoX",
      "execution_count": 20,
      "outputs": [
        {
          "output_type": "execute_result",
          "data": {
            "text/plain": [
              "7053          Happy walls Extra Large PVC vinyl Sticker\n",
              "12672                      Uberlyfe Large Vinyl Sticker\n",
              "12661    Oren Empower Extra Large Self Adhesive Sticker\n",
              "5187               DeStudio Large Wall Stickers Sticker\n",
              "7066                    Ddreamz Small PVC Vinyl Sticker\n",
              "10555              Wallmantra Extra Large Vinyl Sticker\n",
              "10141               DeStudio Small WALL STICKER Sticker\n",
              "12194            Wall Decal Small Self Adhesive Sticker\n",
              "12195           Wall Decal Medium Self Adhesive Sticker\n",
              "9946                  DeStudio Extra Large Wall Sticker\n",
              "Name: product_names, dtype: object"
            ]
          },
          "metadata": {},
          "execution_count": 20
        }
      ]
    },
    {
      "cell_type": "code",
      "metadata": {
        "id": "v0St-ygWsb3J"
      },
      "source": [
        ""
      ],
      "id": "v0St-ygWsb3J",
      "execution_count": null,
      "outputs": []
    }
  ]
}